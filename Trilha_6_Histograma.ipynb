{
  "nbformat": 4,
  "nbformat_minor": 0,
  "metadata": {
    "colab": {
      "name": "Trilha 6_Histograma.ipynb",
      "provenance": [],
      "authorship_tag": "ABX9TyOPo4gG0oEQS6WAvFXFXLZn",
      "include_colab_link": true
    },
    "kernelspec": {
      "name": "python3",
      "display_name": "Python 3"
    },
    "language_info": {
      "name": "python"
    }
  },
  "cells": [
    {
      "cell_type": "markdown",
      "metadata": {
        "id": "view-in-github",
        "colab_type": "text"
      },
      "source": [
        "<a href=\"https://colab.research.google.com/github/GustavoHSilva07/RECUPERA-O-DA-INFORMA-O-NA-WEB-E-EM-REDES-SOCIAIS/blob/main/Trilha_6_Histograma.ipynb\" target=\"_parent\"><img src=\"https://colab.research.google.com/assets/colab-badge.svg\" alt=\"Open In Colab\"/></a>"
      ]
    },
    {
      "cell_type": "markdown",
      "source": [
        "# **TRILHA 6: TAREFA**\n",
        "\n",
        "Escolha uma corpora de documentos correlatos e extraia as suas principais palavras e apresente um histograma."
      ],
      "metadata": {
        "id": "H005M7tgRSs0"
      }
    },
    {
      "cell_type": "code",
      "execution_count": 16,
      "metadata": {
        "colab": {
          "base_uri": "https://localhost:8080/"
        },
        "id": "9rp4FUeWQu83",
        "outputId": "4198e4ed-3d52-4cc6-d15a-56bf2a0f333d"
      },
      "outputs": [
        {
          "output_type": "stream",
          "name": "stdout",
          "text": [
            "Requirement already satisfied: unidecode in /usr/local/lib/python3.7/dist-packages (1.3.2)\n"
          ]
        }
      ],
      "source": [
        "#Importando bibliotecas\n",
        "import pandas as pd\n",
        "from bs4 import BeautifulSoup\n",
        "import requests\n",
        "import json\n",
        "import nltk\n",
        "from nltk.corpus import stopwords\n",
        "import string\n",
        "import matplotlib.pyplot as plt\n",
        "#Foi necessário instalar o unidecode com o comando abaixo\n",
        "!pip install unidecode\n",
        "from unidecode import unidecode"
      ]
    },
    {
      "cell_type": "code",
      "source": [
        "dados = json.load(open('UolBlogs.json', 'r')) #Importando a base disponibilizada pelo professor e carregada na pasta local do colab\n",
        "# Recuperando os textos do autor Mauricio Stycer\n",
        "texto = []\n",
        "for grupo in dados:\n",
        "    if 'Mauricio Stycer' in grupo['author']:\n",
        "        texto.append(grupo)\n",
        "\n",
        "texto_df = pd.DataFrame(texto) #Criando DF com as palavras dos textos do autor"
      ],
      "metadata": {
        "id": "QpHXqpEBRyrH"
      },
      "execution_count": 17,
      "outputs": []
    },
    {
      "cell_type": "code",
      "source": [
        "# Baixando palavras de parada\n",
        "nltk.download('stopwords')\n",
        "stop = stopwords.words('portuguese')\n",
        "\n",
        "#Tratamentos dos dados\n",
        "texto_df['content'] = texto_df['content'].str.lower().apply(lambda x:unidecode(x)) #Transformando em minuscula e removendo acentos\n",
        "texto_df['content'] = texto_df['content'].apply(lambda x: ' '.join([w for w in x.split() if w not in (stop)])) #Retirando palavras de parada\n",
        "texto_df['content'] = texto_df['content'].str.replace('[{}]'.format(string.digits),'') #Retirando os numeros\n",
        "texto_df['content'] = texto_df['content'].str.replace('[{}]'.format(string.punctuation),'') #Retirando pontuação\n",
        "display(texto_df)"
      ],
      "metadata": {
        "colab": {
          "base_uri": "https://localhost:8080/",
          "height": 460
        },
        "id": "a9DsI2pIS7M6",
        "outputId": "f67d6a83-02e5-4472-8a36-285592dad02c"
      },
      "execution_count": 18,
      "outputs": [
        {
          "output_type": "stream",
          "name": "stdout",
          "text": [
            "[nltk_data] Downloading package stopwords to /root/nltk_data...\n",
            "[nltk_data]   Package stopwords is already up-to-date!\n"
          ]
        },
        {
          "output_type": "display_data",
          "data": {
            "text/html": [
              "<div>\n",
              "<style scoped>\n",
              "    .dataframe tbody tr th:only-of-type {\n",
              "        vertical-align: middle;\n",
              "    }\n",
              "\n",
              "    .dataframe tbody tr th {\n",
              "        vertical-align: top;\n",
              "    }\n",
              "\n",
              "    .dataframe thead th {\n",
              "        text-align: right;\n",
              "    }\n",
              "</style>\n",
              "<table border=\"1\" class=\"dataframe\">\n",
              "  <thead>\n",
              "    <tr style=\"text-align: right;\">\n",
              "      <th></th>\n",
              "      <th>author</th>\n",
              "      <th>title</th>\n",
              "      <th>content</th>\n",
              "    </tr>\n",
              "  </thead>\n",
              "  <tbody>\n",
              "    <tr>\n",
              "      <th>0</th>\n",
              "      <td>Mauricio Stycer</td>\n",
              "      <td>Globoplay fará documentário sobre escândalo da...</td>\n",
              "      <td>escandalo prevent senior mudou rumo cobertura ...</td>\n",
              "    </tr>\n",
              "    <tr>\n",
              "      <th>1</th>\n",
              "      <td>Mauricio Stycer</td>\n",
              "      <td>Espanhola acusa Lula e PT de elo com tráfico, ...</td>\n",
              "      <td>jornal record divulgou neste sabado  entrevist...</td>\n",
              "    </tr>\n",
              "    <tr>\n",
              "      <th>2</th>\n",
              "      <td>Mauricio Stycer</td>\n",
              "      <td>Em entrevista com banqueiro, Bial iguala Lula ...</td>\n",
              "      <td>exibida madrugada dia  entrevista pedro bial e...</td>\n",
              "    </tr>\n",
              "    <tr>\n",
              "      <th>3</th>\n",
              "      <td>Mauricio Stycer</td>\n",
              "      <td>Jovem Pan anuncia estreia de canal de notícias...</td>\n",
              "      <td>comunicacao divulgada proprio portal jovem pan...</td>\n",
              "    </tr>\n",
              "    <tr>\n",
              "      <th>4</th>\n",
              "      <td>Mauricio Stycer</td>\n",
              "      <td>Damares cita série da Netflix ao propor revisã...</td>\n",
              "      <td>governo bolsonaro planeja rever politica class...</td>\n",
              "    </tr>\n",
              "    <tr>\n",
              "      <th>...</th>\n",
              "      <td>...</td>\n",
              "      <td>...</td>\n",
              "      <td>...</td>\n",
              "    </tr>\n",
              "    <tr>\n",
              "      <th>543</th>\n",
              "      <td>Mauricio Stycer</td>\n",
              "      <td>Quem vê A Fazenda só tem duas opções: ser a fa...</td>\n",
              "      <td>previsivel ocorresse demorou assim confirmada ...</td>\n",
              "    </tr>\n",
              "    <tr>\n",
              "      <th>544</th>\n",
              "      <td>Mauricio Stycer</td>\n",
              "      <td>A Fazenda : Rodrigo deve sair, e é o mais just...</td>\n",
              "      <td>disputando roca raissa biel rodrigo merece sai...</td>\n",
              "    </tr>\n",
              "    <tr>\n",
              "      <th>545</th>\n",
              "      <td>Mauricio Stycer</td>\n",
              "      <td>Criticado por fãs, Mion culpa diretor da Fazen...</td>\n",
              "      <td>apresentador marcos mion nao gostou criticas r...</td>\n",
              "    </tr>\n",
              "    <tr>\n",
              "      <th>546</th>\n",
              "      <td>Mauricio Stycer</td>\n",
              "      <td>Ainda mal em SP, SBT tem vitória importante no...</td>\n",
              "      <td>ainda dando primeiros passos projeto transmiss...</td>\n",
              "    </tr>\n",
              "    <tr>\n",
              "      <th>547</th>\n",
              "      <td>Mauricio Stycer</td>\n",
              "      <td>Fazenda: Enquete indica que Rodrigo deve sair,...</td>\n",
              "      <td>fazenda  bombando recorde audiencia atras rec...</td>\n",
              "    </tr>\n",
              "  </tbody>\n",
              "</table>\n",
              "<p>548 rows × 3 columns</p>\n",
              "</div>"
            ],
            "text/plain": [
              "              author  ...                                            content\n",
              "0    Mauricio Stycer  ...  escandalo prevent senior mudou rumo cobertura ...\n",
              "1    Mauricio Stycer  ...  jornal record divulgou neste sabado  entrevist...\n",
              "2    Mauricio Stycer  ...  exibida madrugada dia  entrevista pedro bial e...\n",
              "3    Mauricio Stycer  ...  comunicacao divulgada proprio portal jovem pan...\n",
              "4    Mauricio Stycer  ...  governo bolsonaro planeja rever politica class...\n",
              "..               ...  ...                                                ...\n",
              "543  Mauricio Stycer  ...  previsivel ocorresse demorou assim confirmada ...\n",
              "544  Mauricio Stycer  ...  disputando roca raissa biel rodrigo merece sai...\n",
              "545  Mauricio Stycer  ...  apresentador marcos mion nao gostou criticas r...\n",
              "546  Mauricio Stycer  ...  ainda dando primeiros passos projeto transmiss...\n",
              "547  Mauricio Stycer  ...   fazenda  bombando recorde audiencia atras rec...\n",
              "\n",
              "[548 rows x 3 columns]"
            ]
          },
          "metadata": {}
        }
      ]
    },
    {
      "cell_type": "code",
      "source": [
        "#Faz a contagem de palavras por cada linha do artigo\n",
        "texto_df['words']=texto_df['content'].str.split().str.len()\n",
        "\n",
        "#Elimina qualquer artigo que tenha gerado menos de 20 letras\n",
        "texto_df=texto_df.loc[(texto_df['words']>20)]\n",
        "\n",
        "#Plota o data frame em histograma para uma avaliação\n",
        "texto_df.plot.hist(bins=30, alpha=0.8)"
      ],
      "metadata": {
        "colab": {
          "base_uri": "https://localhost:8080/",
          "height": 283
        },
        "id": "4SepWxSchTIF",
        "outputId": "f47d34ad-6c2c-477c-9b31-dbe84acce793"
      },
      "execution_count": 19,
      "outputs": [
        {
          "output_type": "execute_result",
          "data": {
            "text/plain": [
              "<matplotlib.axes._subplots.AxesSubplot at 0x7f4b36113590>"
            ]
          },
          "metadata": {},
          "execution_count": 19
        },
        {
          "output_type": "display_data",
          "data": {
            "image/png": "[encoded data removed]",
            "text/plain": [
              "<Figure size 432x288 with 1 Axes>"
            ]
          },
          "metadata": {}
        }
      ]
    },
    {
      "cell_type": "code",
      "source": [
        "# Contando palavras\n",
        "text_all = \"\"\n",
        "\n",
        "for i in texto_df['content']:\n",
        "    text_all = text_all + i\n",
        "    \n",
        "listadepalavras = text_all.split()\n",
        "\n",
        "palavras = {}\n",
        "for i in listadepalavras:\n",
        "    palavras[i] = listadepalavras.count(i)\n",
        "\n",
        "print(palavras)"
      ],
      "metadata": {
        "id": "ItbexEcVjklJ"
      },
      "execution_count": 20,
      "outputs": []
    }
  ]
}